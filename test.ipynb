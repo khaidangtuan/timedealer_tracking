{
 "cells": [
  {
   "cell_type": "code",
   "execution_count": 1,
   "id": "9d91f530-d40b-4e78-a173-8f119def0350",
   "metadata": {
    "tags": []
   },
   "outputs": [],
   "source": [
    "import json\n",
    "import requests\n",
    "import pandas as pd"
   ]
  },
  {
   "cell_type": "code",
   "execution_count": 8,
   "id": "2fe7520b-f312-4f4d-ad3d-050d8ac4285b",
   "metadata": {
    "tags": []
   },
   "outputs": [],
   "source": [
    "from config import conn_str\n",
    "import sqlalchemy as sa\n",
    "\n",
    "engine = sa.create_engine(conn_str)"
   ]
  },
  {
   "cell_type": "code",
   "execution_count": 15,
   "id": "9e7b9ee7-223d-438c-a7b3-5423a99df40c",
   "metadata": {
    "tags": []
   },
   "outputs": [],
   "source": [
    "# drop table\n",
    "with engine.connect() as conn:\n",
    "    conn.execute(sa.text('DROP TABLE IF EXISTS queue_detail;'))\n",
    "    conn.commit()"
   ]
  },
  {
   "cell_type": "code",
   "execution_count": 28,
   "id": "f451b29d-1b3c-4522-afc5-0521bd682c5f",
   "metadata": {
    "tags": []
   },
   "outputs": [
    {
     "data": {
      "text/html": [
       "<div>\n",
       "<style scoped>\n",
       "    .dataframe tbody tr th:only-of-type {\n",
       "        vertical-align: middle;\n",
       "    }\n",
       "\n",
       "    .dataframe tbody tr th {\n",
       "        vertical-align: top;\n",
       "    }\n",
       "\n",
       "    .dataframe thead th {\n",
       "        text-align: right;\n",
       "    }\n",
       "</style>\n",
       "<table border=\"1\" class=\"dataframe\">\n",
       "  <thead>\n",
       "    <tr style=\"text-align: right;\">\n",
       "      <th></th>\n",
       "      <th>userId_refId</th>\n",
       "      <th>model</th>\n",
       "      <th>max_price</th>\n",
       "      <th>currency_code</th>\n",
       "      <th>conditions</th>\n",
       "      <th>manufactured_year</th>\n",
       "      <th>curency_code</th>\n",
       "    </tr>\n",
       "  </thead>\n",
       "  <tbody>\n",
       "    <tr>\n",
       "      <th>0</th>\n",
       "      <td>abc_xyz11</td>\n",
       "      <td>Rm35-02</td>\n",
       "      <td>2400000.0</td>\n",
       "      <td>HKD</td>\n",
       "      <td>used</td>\n",
       "      <td></td>\n",
       "      <td>HKD</td>\n",
       "    </tr>\n",
       "  </tbody>\n",
       "</table>\n",
       "</div>"
      ],
      "text/plain": [
       "  userId_refId    model  max_price currency_code conditions manufactured_year  \\\n",
       "0    abc_xyz11  Rm35-02  2400000.0           HKD       used                     \n",
       "\n",
       "  curency_code  \n",
       "0          HKD  "
      ]
     },
     "execution_count": 28,
     "metadata": {},
     "output_type": "execute_result"
    }
   ],
   "source": [
    "# view table\n",
    "with engine.connect() as conn:\n",
    "    a = pd.read_sql('SELECT * from queue_config;', conn)\n",
    "a"
   ]
  },
  {
   "cell_type": "code",
   "execution_count": 17,
   "id": "bbb476b0-c6ed-4219-ba67-a6de50f1e924",
   "metadata": {
    "tags": []
   },
   "outputs": [
    {
     "data": {
      "text/html": [
       "<div>\n",
       "<style scoped>\n",
       "    .dataframe tbody tr th:only-of-type {\n",
       "        vertical-align: middle;\n",
       "    }\n",
       "\n",
       "    .dataframe tbody tr th {\n",
       "        vertical-align: top;\n",
       "    }\n",
       "\n",
       "    .dataframe thead th {\n",
       "        text-align: right;\n",
       "    }\n",
       "</style>\n",
       "<table border=\"1\" class=\"dataframe\">\n",
       "  <thead>\n",
       "    <tr style=\"text-align: right;\">\n",
       "      <th></th>\n",
       "      <th>parent_message_id</th>\n",
       "      <th>Brand</th>\n",
       "      <th>Model</th>\n",
       "      <th>Product Status</th>\n",
       "      <th>Price</th>\n",
       "      <th>Time</th>\n",
       "      <th>want_to_buy</th>\n",
       "      <th>Color</th>\n",
       "      <th>Material</th>\n",
       "      <th>Strap</th>\n",
       "      <th>Dial</th>\n",
       "      <th>ManufactureYear</th>\n",
       "      <th>userId_refId</th>\n",
       "    </tr>\n",
       "  </thead>\n",
       "  <tbody>\n",
       "    <tr>\n",
       "      <th>0</th>\n",
       "      <td>042bbf37-517f-487e-a8e0-bd4dd6864816</td>\n",
       "      <td>Richard Mille</td>\n",
       "      <td>Rm35-02</td>\n",
       "      <td>like new.</td>\n",
       "      <td>2355825.0</td>\n",
       "      <td>123</td>\n",
       "      <td>0</td>\n",
       "      <td>black</td>\n",
       "      <td></td>\n",
       "      <td></td>\n",
       "      <td></td>\n",
       "      <td></td>\n",
       "      <td>abc_xyz11</td>\n",
       "    </tr>\n",
       "  </tbody>\n",
       "</table>\n",
       "</div>"
      ],
      "text/plain": [
       "                      parent_message_id          Brand    Model  \\\n",
       "0  042bbf37-517f-487e-a8e0-bd4dd6864816  Richard Mille  Rm35-02   \n",
       "\n",
       "  Product Status      Price  Time  want_to_buy  Color Material Strap Dial  \\\n",
       "0      like new.  2355825.0   123            0  black                       \n",
       "\n",
       "  ManufactureYear userId_refId  \n",
       "0                    abc_xyz11  "
      ]
     },
     "execution_count": 17,
     "metadata": {},
     "output_type": "execute_result"
    }
   ],
   "source": [
    "# view table\n",
    "with engine.connect() as conn:\n",
    "    a = pd.read_sql('SELECT * from queue_detail;', conn)\n",
    "a"
   ]
  },
  {
   "cell_type": "code",
   "execution_count": null,
   "id": "0c8e252d-b729-400d-83e4-65c4c380845d",
   "metadata": {},
   "outputs": [],
   "source": [
    "# createQueue, deleteQueue, track @ tracking_app.py uvicorn --port 1234\n",
    "# dataReceiver @ receiver_app_simulation/receiver_app.py uvicorn --port 1112"
   ]
  },
  {
   "cell_type": "code",
   "execution_count": 25,
   "id": "774e68f6-e4c7-4895-b820-fd941d4218ec",
   "metadata": {
    "tags": []
   },
   "outputs": [
    {
     "data": {
      "text/plain": [
       "200"
      ]
     },
     "execution_count": 25,
     "metadata": {},
     "output_type": "execute_result"
    }
   ],
   "source": [
    "# createQueue\n",
    "queueConfig = {\n",
    "    \"userId_refId\": \"1_ROLEX0001\",\n",
    "    \"model\":\"rolex0001\",\n",
    "    \"max_price\": 10000,\n",
    "    \"currency_code\": \"USD\",\n",
    "    \"conditions\": [1],\n",
    "    \"manufactured_year\": ''\n",
    "}\n",
    "\n",
    "url = 'http://localhost:1234/createQueue'\n",
    "r = requests.post(url, json=queueConfig)\n",
    "r.status_code"
   ]
  },
  {
   "cell_type": "code",
   "execution_count": 27,
   "id": "1b807ffd-db5c-459b-902c-b5cb257c0d06",
   "metadata": {
    "tags": []
   },
   "outputs": [
    {
     "data": {
      "text/plain": [
       "200"
      ]
     },
     "execution_count": 27,
     "metadata": {},
     "output_type": "execute_result"
    }
   ],
   "source": [
    "# deleteQueue\n",
    "queueConfig = {\n",
    "    \"userId_refId\": \"1_ROLEX0001\"\n",
    "}\n",
    "url = 'http://localhost:1234/deleteQueue'\n",
    "r = requests.post(url, json=queueConfig)\n",
    "r.status_code"
   ]
  },
  {
   "cell_type": "code",
   "execution_count": 30,
   "id": "d3cb12b3-5554-48da-aa16-bd7c28bbf1ad",
   "metadata": {
    "tags": []
   },
   "outputs": [
    {
     "data": {
      "text/plain": [
       "200"
      ]
     },
     "execution_count": 30,
     "metadata": {},
     "output_type": "execute_result"
    }
   ],
   "source": [
    "# demo tracking flow\n",
    "# message after being extract, fowarded to tracking endpoint at 'http://localhost:1234/track'\n",
    "with open('data/test_extract.json') as file:\n",
    "    message = json.load(file)\n",
    "    \n",
    "url = 'http://localhost:1234/track'\n",
    "r = requests.post(url, json=message)\n",
    "r.status_code"
   ]
  }
 ],
 "metadata": {
  "kernelspec": {
   "display_name": "Python 3 (ipykernel)",
   "language": "python",
   "name": "python3"
  },
  "language_info": {
   "codemirror_mode": {
    "name": "ipython",
    "version": 3
   },
   "file_extension": ".py",
   "mimetype": "text/x-python",
   "name": "python",
   "nbconvert_exporter": "python",
   "pygments_lexer": "ipython3",
   "version": "3.11.4"
  }
 },
 "nbformat": 4,
 "nbformat_minor": 5
}
